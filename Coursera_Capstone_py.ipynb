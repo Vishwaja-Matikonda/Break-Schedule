{
  "nbformat": 4,
  "nbformat_minor": 0,
  "metadata": {
    "colab": {
      "name": "Coursera_Capstone.py",
      "provenance": [],
      "authorship_tag": "ABX9TyMccg2IoqS/IETC+WBqm+FB",
      "include_colab_link": true
    },
    "kernelspec": {
      "name": "python3",
      "display_name": "Python 3"
    }
  },
  "cells": [
    {
      "cell_type": "markdown",
      "metadata": {
        "id": "view-in-github",
        "colab_type": "text"
      },
      "source": [
        "<a href=\"https://colab.research.google.com/github/Vishwaja-Matikonda/Break-Schedule/blob/master/Coursera_Capstone_py.ipynb\" target=\"_parent\"><img src=\"https://colab.research.google.com/assets/colab-badge.svg\" alt=\"Open In Colab\"/></a>"
      ]
    },
    {
      "cell_type": "code",
      "metadata": {
        "colab": {
          "base_uri": "https://localhost:8080/"
        },
        "id": "a0kLZVwk2R42",
        "outputId": "098c8f6e-8312-4e6f-decb-f7d2d3b3366a"
      },
      "source": [
        "#importing pandas\r\n",
        "import pandas as pd\r\n",
        "#importing numpy \r\n",
        "import numpy as np\r\n",
        "print('Hello Capstone Project Course!')"
      ],
      "execution_count": 2,
      "outputs": [
        {
          "output_type": "stream",
          "text": [
            "Hello Capstone Project Course!\n"
          ],
          "name": "stdout"
        }
      ]
    }
  ]
}